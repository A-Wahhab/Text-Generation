{
  "nbformat": 4,
  "nbformat_minor": 0,
  "metadata": {
    "colab": {
      "name": "loading.ipynb",
      "provenance": []
    },
    "kernelspec": {
      "name": "python3",
      "display_name": "Python 3"
    },
    "language_info": {
      "name": "python"
    }
  },
  "cells": [
    {
      "cell_type": "code",
      "execution_count": null,
      "metadata": {
        "id": "TSqILVCImNlp"
      },
      "outputs": [],
      "source": [
        "import numpy as np\n",
        "from random import randint\n",
        "import pandas as pd\n",
        "import tensorflow as tf\n",
        "import matplotlib.pyplot as plt\n",
        "from keras.models import Sequential\n",
        "from keras.layers import Dense\n",
        "from keras.layers import Dropout\n",
        "from keras.layers import LSTM\n",
        "from keras.layers import RNN\n",
        "from keras.utils import np_utils\n",
        "from sklearn import metrics #Import scikit-learn metrics module for accuracy score\n",
        "\n",
        "\n",
        "text = (open(\"fFinal.txt\").read())\n",
        "text = text.lower()\n",
        "\n",
        "characters = sorted(list(set(text)))\n",
        "\n",
        "n_to_char = {n:char for n, char in enumerate(characters)}\n",
        "char_to_n = {char:n for n, char in enumerate(characters)}\n",
        "\n",
        "X = []\n",
        "Y = []\n",
        "length = len(text)\n",
        "seq_length = 100\n",
        "\n",
        "for i in range(0, length-seq_length, 1):\n",
        "\n",
        "    sequence = text[i:i + seq_length]\n",
        "    label =text[i + seq_length]\n",
        "\n",
        "    X.append([char_to_n[char] for char in sequence])\n",
        "    Y.append(char_to_n[label])\n",
        "\n",
        "model = tf.keras.models.load_model('Trainfinal.h5')\n",
        "\n",
        "\n",
        "index = randint(0, 400)\n",
        "\n",
        "string_mapped = X[index]\n",
        "#print(string_mapped)\n",
        "full_string = [n_to_char[value] for value in string_mapped]\n",
        "\n",
        "#  we can add pre words here                                 print(full_string)\n",
        "\n",
        "\n",
        "\n",
        "# generating characters\n",
        "for i in range(400):\n",
        "    x = np.reshape(string_mapped, (1, len(string_mapped), 1))\n",
        "\n",
        "    x = x / float(len(characters))\n",
        "\n",
        "    pred_index = np.argmax(model.predict(x, verbose=0))\n",
        "    seq = [n_to_char[value] for value in string_mapped]\n",
        "    full_string.append(n_to_char[pred_index])\n",
        "\n",
        "    string_mapped.append(pred_index)\n",
        "    string_mapped = string_mapped[1:len(string_mapped)]\n",
        "\n",
        "#combining text\n",
        "txt=\"\"\n",
        "for char in full_string:\n",
        "    txt = txt+char\n",
        "print(txt)\n"
      ]
    }
  ]
}